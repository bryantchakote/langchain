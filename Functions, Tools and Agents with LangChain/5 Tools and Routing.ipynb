{
 "cells": [
  {
   "cell_type": "markdown",
   "metadata": {},
   "source": [
    "# Tools and Routing"
   ]
  },
  {
   "cell_type": "code",
   "execution_count": 1,
   "metadata": {},
   "outputs": [],
   "source": [
    "import os\n",
    "import openai\n",
    "\n",
    "from dotenv import load_dotenv, find_dotenv\n",
    "_ = load_dotenv(find_dotenv())\n",
    "openai.api_key = os.environ[\"OPENAI_API_KEY\"]"
   ]
  },
  {
   "cell_type": "code",
   "execution_count": 2,
   "metadata": {},
   "outputs": [],
   "source": [
    "from langchain.agents import tool"
   ]
  },
  {
   "cell_type": "code",
   "execution_count": 3,
   "metadata": {},
   "outputs": [
    {
     "data": {
      "text/plain": [
       "('search',\n",
       " 'Search for weather online',\n",
       " {'query': {'title': 'Query', 'type': 'string'}})"
      ]
     },
     "execution_count": 3,
     "metadata": {},
     "output_type": "execute_result"
    }
   ],
   "source": [
    "@tool # converts the function into a langchain tool\n",
    "def search(query: str) -> str:\n",
    "    \"\"\"Search for weather online\"\"\"\n",
    "    return \"42f\"\n",
    "\n",
    "search.name, search.description, search.args"
   ]
  },
  {
   "cell_type": "code",
   "execution_count": 4,
   "metadata": {},
   "outputs": [
    {
     "data": {
      "text/plain": [
       "('search',\n",
       " 'Search for weather online',\n",
       " {'query': {'description': 'Thing to search for',\n",
       "   'title': 'Query',\n",
       "   'type': 'string'}})"
      ]
     },
     "execution_count": 4,
     "metadata": {},
     "output_type": "execute_result"
    }
   ],
   "source": [
    "# Define a structure for the input schema\n",
    "# Important since the LLM use it as a prompt\n",
    "from pydantic import BaseModel, Field\n",
    "\n",
    "class SearchInput(BaseModel):\n",
    "    query: str = Field(description=\"Thing to search for\")\n",
    "\n",
    "@tool(args_schema=SearchInput)\n",
    "def search(query: str) -> str:\n",
    "    \"\"\"Search for weather online\"\"\"\n",
    "    return \"42f\"\n",
    "\n",
    "search.name, search.description, search.args"
   ]
  },
  {
   "cell_type": "code",
   "execution_count": 5,
   "metadata": {},
   "outputs": [
    {
     "data": {
      "text/plain": [
       "'42f'"
      ]
     },
     "execution_count": 5,
     "metadata": {},
     "output_type": "execute_result"
    }
   ],
   "source": [
    "search.run(\"CDG\")"
   ]
  },
  {
   "cell_type": "markdown",
   "metadata": {},
   "source": [
    "## Application: get temperature given a location latitude and longitude"
   ]
  },
  {
   "cell_type": "code",
   "execution_count": 6,
   "metadata": {},
   "outputs": [],
   "source": [
    "import requests\n",
    "from datetime import datetime\n",
    "\n",
    "# Input schema\n",
    "class OpenMeteoInput(BaseModel):\n",
    "    latitude: float = Field(description=\"Latitude of the location to fetch weather data\")\n",
    "    longitude: float = Field(description=\"Longitude of the location to fetch weather data\")\n",
    "\n",
    "@tool(args_schema=OpenMeteoInput)\n",
    "def get_current_temperature(latitude: float, longitude: float) -> dict:\n",
    "    \"\"\"Fetch current temperature for given coordinates.\"\"\"\n",
    "\n",
    "    BASE_URL = \"https://api.open-meteo.com/v1/forecast\"\n",
    "\n",
    "    # Parameters for the request\n",
    "    params = {\n",
    "        \"latitude\": latitude,\n",
    "        \"longitude\": longitude,\n",
    "        \"hourly\": \"temperature_2m\",\n",
    "        \"forecast_days\": 1,\n",
    "    }\n",
    "\n",
    "    # Make the request\n",
    "    response = requests.get(BASE_URL, params=params)\n",
    "\n",
    "    if response.status_code == 200:\n",
    "        results = response.json()\n",
    "    else:\n",
    "        raise Exception(f\"API Request failed with status code: {response.status_code}\")\n",
    "\n",
    "    current_utc_time = datetime.now()\n",
    "    time_list = [datetime.fromisoformat(time_str.replace(\"Z\", \"+00:00\")) for time_str in results[\"hourly\"][\"time\"]]\n",
    "    temperature_list = results[\"hourly\"][\"temperature_2m\"]\n",
    "    \n",
    "    closest_time_index = min(range(len(time_list)), key=lambda i: abs(time_list[i] - current_utc_time))\n",
    "    current_temperature = temperature_list[closest_time_index]\n",
    "    \n",
    "    return f\"{current_temperature}°C\""
   ]
  },
  {
   "cell_type": "code",
   "execution_count": 7,
   "metadata": {},
   "outputs": [
    {
     "data": {
      "text/plain": [
       "('get_current_temperature',\n",
       " 'Fetch current temperature for given coordinates.',\n",
       " {'latitude': {'description': 'Latitude of the location to fetch weather data',\n",
       "   'title': 'Latitude',\n",
       "   'type': 'number'},\n",
       "  'longitude': {'description': 'Longitude of the location to fetch weather data',\n",
       "   'title': 'Longitude',\n",
       "   'type': 'number'}})"
      ]
     },
     "execution_count": 7,
     "metadata": {},
     "output_type": "execute_result"
    }
   ],
   "source": [
    "get_current_temperature.name, get_current_temperature.description, get_current_temperature.args"
   ]
  },
  {
   "cell_type": "code",
   "execution_count": 8,
   "metadata": {},
   "outputs": [],
   "source": [
    "# Convert the tool to an actual OpenAI function\n",
    "from langchain_core.utils.function_calling import convert_to_openai_function\n",
    "get_current_temperature_openai = convert_to_openai_function(get_current_temperature)"
   ]
  },
  {
   "cell_type": "code",
   "execution_count": null,
   "metadata": {},
   "outputs": [
    {
     "data": {
      "text/plain": [
       "'The current temperature at latitude 3.87 and longitude 11.52 is 27.8°C.'"
      ]
     },
     "execution_count": 9,
     "metadata": {},
     "output_type": "execute_result"
    }
   ],
   "source": [
    "from langchain_openai import ChatOpenAI\n",
    "import json\n",
    "\n",
    "# Create the request and ask the model to identify the function inputs\n",
    "latitude = 3.87\n",
    "longitude = 11.52\n",
    "\n",
    "ask_weather = \"\"\"What's the current temperature in:\n",
    "latitude = {latitude}\n",
    "longitude = {longitude}\n",
    "\"\"\"\n",
    "\n",
    "messages = [\n",
    "    {\"role\": \"user\", \"content\": ask_weather.format(latitude=latitude, longitude=longitude)},\n",
    "]\n",
    "\n",
    "model = ChatOpenAI().bind(functions=[get_current_temperature_openai])\n",
    "response = model.invoke(messages)\n",
    "messages.append(response)\n",
    "\n",
    "# Retrieve the inputs and execute the function\n",
    "args = json.loads(response.additional_kwargs[\"function_call\"][\"arguments\"])\n",
    "temperature = get_current_temperature.run(args)\n",
    "\n",
    "# Add the function output to the conversation and display the final response\n",
    "messages.append({\n",
    "    \"role\": \"function\",\n",
    "    \"name\": response.additional_kwargs[\"function_call\"][\"name\"],\n",
    "    \"content\": temperature,\n",
    "})\n",
    "\n",
    "response = model.invoke(messages)\n",
    "response.content"
   ]
  },
  {
   "cell_type": "code",
   "execution_count": null,
   "metadata": {},
   "outputs": [],
   "source": []
  }
 ],
 "metadata": {
  "kernelspec": {
   "display_name": "langchain",
   "language": "python",
   "name": "python3"
  },
  "language_info": {
   "codemirror_mode": {
    "name": "ipython",
    "version": 3
   },
   "file_extension": ".py",
   "mimetype": "text/x-python",
   "name": "python",
   "nbconvert_exporter": "python",
   "pygments_lexer": "ipython3",
   "version": "3.12.7"
  }
 },
 "nbformat": 4,
 "nbformat_minor": 2
}
