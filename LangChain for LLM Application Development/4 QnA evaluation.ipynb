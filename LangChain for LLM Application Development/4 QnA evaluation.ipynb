{
 "cells": [
  {
   "cell_type": "markdown",
   "metadata": {},
   "source": [
    "# QnA evaluation"
   ]
  },
  {
   "cell_type": "code",
   "execution_count": 1,
   "metadata": {},
   "outputs": [],
   "source": [
    "import os\n",
    "import openai\n",
    "\n",
    "from dotenv import load_dotenv, find_dotenv\n",
    "_ = load_dotenv(find_dotenv())\n",
    "openai.api_key = os.environ[\"OPENAI_API_KEY\"]"
   ]
  },
  {
   "cell_type": "markdown",
   "metadata": {},
   "source": [
    "## QnA"
   ]
  },
  {
   "cell_type": "code",
   "execution_count": 2,
   "metadata": {},
   "outputs": [],
   "source": [
    "from langchain.chains import RetrievalQA\n",
    "from langchain.document_loaders import CSVLoader\n",
    "from langchain.indexes import VectorstoreIndexCreator\n",
    "from langchain.vectorstores import DocArrayInMemorySearch\n",
    "from langchain_openai import ChatOpenAI, OpenAIEmbeddings"
   ]
  },
  {
   "cell_type": "code",
   "execution_count": 3,
   "metadata": {},
   "outputs": [
    {
     "name": "stderr",
     "output_type": "stream",
     "text": [
      "c:\\Users\\tchak\\anaconda3\\envs\\langchain\\Lib\\site-packages\\pydantic\\_migration.py:283: UserWarning: `pydantic.error_wrappers:ValidationError` has been moved to `pydantic:ValidationError`.\n",
      "  warnings.warn(f'`{import_path}` has been moved to `{new_location}`.')\n"
     ]
    }
   ],
   "source": [
    "# Supporting data\n",
    "file = \"OutdoorClothingCatalog_1000.csv\"\n",
    "loader = CSVLoader(file_path=file)\n",
    "docs = loader.load()\n",
    "\n",
    "# Index and retriever\n",
    "index = VectorstoreIndexCreator(\n",
    "    embedding=OpenAIEmbeddings(),\n",
    "    vectorstore_cls=DocArrayInMemorySearch,\n",
    ").from_loaders([loader])\n",
    "retriever = index.vectorstore.as_retriever()\n",
    "\n",
    "# QnA\n",
    "llm = ChatOpenAI()\n",
    "qa = RetrievalQA.from_chain_type(\n",
    "    llm=llm,\n",
    "    chain_type=\"stuff\",\n",
    "    retriever=retriever,\n",
    "    chain_type_kwargs = {\n",
    "        \"document_separator\": \"<<<<>>>>>\"\n",
    "    }\n",
    ")"
   ]
  },
  {
   "cell_type": "markdown",
   "metadata": {},
   "source": [
    "## Evaluation"
   ]
  },
  {
   "cell_type": "code",
   "execution_count": 4,
   "metadata": {},
   "outputs": [],
   "source": [
    "# Hard-coded examples\n",
    "examples = [\n",
    "    {\n",
    "        \"query\": \"Do the Cozy Comfort Pullover Set have side pockets?\",\n",
    "        \"answer\": \"Yes\",\n",
    "    },\n",
    "    {\n",
    "        \"query\": \"What collection is the Ultra-Lofty 850 Stretch Down Hooded Jacket from?\",\n",
    "        \"answer\": \"The DownTek collection\",\n",
    "    },\n",
    "]\n",
    "\n",
    "# LLM-generated examples\n",
    "from langchain.evaluation.qa import QAGenerateChain, QAEvalChain\n",
    "\n",
    "def get_query_and_answers(generated_qa):  # output parser\n",
    "    return generated_qa[\"qa_pairs\"]\n",
    "\n",
    "chain = QAGenerateChain.from_llm(llm) | get_query_and_answers\n",
    "new_examples = chain.batch([{\"doc\": doc} for doc in docs[:5]])\n",
    "\n",
    "examples += new_examples"
   ]
  },
  {
   "cell_type": "code",
   "execution_count": 5,
   "metadata": {},
   "outputs": [
    {
     "name": "stdout",
     "output_type": "stream",
     "text": [
      "AI: Yes, the Cozy Comfort Pullover Set does have side pockets.\n",
      "Me: Yes\n"
     ]
    }
   ],
   "source": [
    "# Manuel evaluation\n",
    "# import langchain        # it is possible to use the following to print all the necessary\n",
    "# langchain.debug = True  # information regarding the execution of the chain while running\n",
    "\n",
    "print(\"AI:\", qa.invoke(examples[0][\"query\"])[\"result\"])\n",
    "print(\"Me:\", examples[0][\"answer\"])"
   ]
  },
  {
   "cell_type": "code",
   "execution_count": 6,
   "metadata": {},
   "outputs": [
    {
     "name": "stdout",
     "output_type": "stream",
     "text": [
      "Example 0:\n",
      "Question ----------- Do the Cozy Comfort Pullover Set have side pockets?\n",
      "Real Answer -------- Yes\n",
      "Predicted Answer --- The Cozy Comfort Pullover Set does not mention having side pockets in the provided description.\n",
      "Predicted Grade ---- INCORRECT\n",
      "\n",
      "Example 1:\n",
      "Question ----------- What collection is the Ultra-Lofty 850 Stretch Down Hooded Jacket from?\n",
      "Real Answer -------- The DownTek collection\n",
      "Predicted Answer --- The Ultra-Lofty 850 Stretch Down Hooded Jacket is from the DownTek collection.\n",
      "Predicted Grade ---- CORRECT\n",
      "\n",
      "Example 2:\n",
      "Question ----------- What are the key features of the Women's Campside Oxfords as described in the document?\n",
      "Real Answer -------- The key features of the Women's Campside Oxfords include a super-soft canvas material for a broken-in feel and look, a comfortable EVA innersole with Cleansport NXT® antimicrobial odor control, a vintage hunt, fish, and camping motif on the innersole, a moderate arch contour of the innersole, an EVA foam midsole for cushioning and support, and a chain-tread-inspired molded rubber outsole with a modified chain-tread pattern.\n",
      "Predicted Answer --- The key features of the Women's Campside Oxfords as described in the document include:\n",
      "- Soft canvas material for a broken-in feel and look\n",
      "- Comfortable EVA innersole with Cleansport NXT® antimicrobial odor control\n",
      "- Vintage hunt, fish, and camping motif on innersole\n",
      "- Moderate arch contour of innersole\n",
      "- EVA foam midsole for cushioning and support\n",
      "- Chain-tread-inspired molded rubber outsole with modified chain-tread pattern\n",
      "\n",
      "If you need more specific details or have any other questions, please let me know!\n",
      "Predicted Grade ---- CORRECT\n",
      "\n",
      "Example 3:\n",
      "Question ----------- What are the dimensions of the Small and Medium sizes of the Recycled Waterhog Dog Mat, Chevron Weave?\n",
      "Real Answer -------- The Small size has dimensions of 18\" x 28\" and the Medium size has dimensions of 22.5\" x 34.5\".\n",
      "Predicted Answer --- The dimensions of the Small size of the Recycled Waterhog Dog Mat, Chevron Weave are 18\" x 28\". The dimensions of the Medium size are 22.5\" x 34.5\".\n",
      "Predicted Grade ---- CORRECT\n",
      "\n",
      "Example 4:\n",
      "Question ----------- What features does the Infant and Toddler Girls' Coastal Chill Swimsuit, Two-Piece have according to the document?\n",
      "Real Answer -------- The swimsuit features bright colors, ruffles, exclusive whimsical prints, four-way-stretch and chlorine-resistant fabric, UPF 50+ rated fabric for sun protection, crossover no-slip straps, fully lined bottom for a secure fit and maximum coverage, and is machine washable and line dry for best results.\n",
      "Predicted Answer --- The Infant and Toddler Girls' Coastal Chill Swimsuit, Two-Piece features include four-way-stretch and chlorine-resistant fabric, UPF 50+ rated sun protection, crossover no-slip straps, fully lined bottom for secure fit and coverage, and the ability to be machine washed and line dried for best results.\n",
      "Predicted Grade ---- CORRECT\n",
      "\n",
      "Example 5:\n",
      "Question ----------- What percentage of the body of the Refresh Swimwear, V-Neck Tankini Contrasts is made of recycled nylon?\n",
      "Real Answer -------- The body of the tankini top is made of 82% recycled nylon.\n",
      "Predicted Answer --- The body of the Refresh Swimwear, V-Neck Tankini Contrasts is made of 82% recycled nylon.\n",
      "Predicted Grade ---- CORRECT\n",
      "\n",
      "Example 6:\n",
      "Question ----------- What technology is highlighted in the description of the EcoFlex 3L Storm Pants?\n",
      "Real Answer -------- The EcoFlex 3L Storm Pants feature the state-of-the-art TEK O2 technology, which offers the most breathability tested and guarantees to keep you dry and comfortable.\n",
      "Predicted Answer --- The technology highlighted in the description of the EcoFlex 3L Storm Pants is the TEK O2 technology, which offers high breathability and keeps the wearer dry and comfortable in various weather conditions.\n",
      "Predicted Grade ---- CORRECT\n",
      "\n"
     ]
    }
   ],
   "source": [
    "# LLM-assisted eval\n",
    "predictions = [qa.invoke(example) for example in examples]\n",
    "eval_chain = QAEvalChain.from_llm(llm)\n",
    "graded_outputs = eval_chain.evaluate(examples, predictions)\n",
    "\n",
    "for i, eg in enumerate(examples):\n",
    "    print(f\"Example {i}:\")\n",
    "    print(f\"{'Question ':-<20} {predictions[i]['query']}\")\n",
    "    print(f\"{'Real Answer ':-<20} {predictions[i]['answer']}\")\n",
    "    print(f\"{'Predicted Answer ':-<20} {predictions[i]['result']}\")\n",
    "    print(f\"{'Predicted Grade ':-<20} {graded_outputs[i]['results']}\")\n",
    "    print()"
   ]
  }
 ],
 "metadata": {
  "kernelspec": {
   "display_name": "langchain",
   "language": "python",
   "name": "python3"
  },
  "language_info": {
   "codemirror_mode": {
    "name": "ipython",
    "version": 3
   },
   "file_extension": ".py",
   "mimetype": "text/x-python",
   "name": "python",
   "nbconvert_exporter": "python",
   "pygments_lexer": "ipython3",
   "version": "3.12.7"
  }
 },
 "nbformat": 4,
 "nbformat_minor": 2
}
